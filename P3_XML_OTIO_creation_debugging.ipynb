{
 "cells": [
  {
   "cell_type": "markdown",
   "id": "419a0c98",
   "metadata": {},
   "source": [
    "# Part 3: OTIO package exploration and debugging\n",
    "## Dependencies: ffmpeg moviepy scipy librosa\n",
    "\n"
   ]
  },
  {
   "cell_type": "code",
   "execution_count": 1,
   "id": "a85b95ea",
   "metadata": {},
   "outputs": [],
   "source": [
    "#audio\n",
    "from __future__ import print_function\n",
    "import numpy as np\n",
    "import matplotlib\n",
    "import matplotlib.pyplot as plt\n",
    "\n",
    "import librosa\n",
    "import librosa.display"
   ]
  },
  {
   "cell_type": "code",
   "execution_count": 2,
   "id": "68910a33",
   "metadata": {},
   "outputs": [],
   "source": [
    "import pandas as pd \n",
    "import pyloudnorm as pyln"
   ]
  },
  {
   "cell_type": "code",
   "execution_count": 3,
   "id": "2ecbceef",
   "metadata": {},
   "outputs": [
    {
     "name": "stderr",
     "output_type": "stream",
     "text": [
      "Failed to establish dbus connection"
     ]
    }
   ],
   "source": [
    "#video\n",
    "import moviepy\n",
    "from moviepy.editor import *\n",
    "import opentimelineio as otio\n",
    "import argparse"
   ]
  },
  {
   "cell_type": "code",
   "execution_count": 4,
   "id": "75a74e95",
   "metadata": {},
   "outputs": [],
   "source": [
    "#importing audio\n",
    "#x1 waveform \n",
    "#fs sampling rate"
   ]
  },
  {
   "cell_type": "code",
   "execution_count": 5,
   "id": "4698e666",
   "metadata": {},
   "outputs": [],
   "source": [
    "file_dir_list=[\"Data/Audio/Osi Audio Extracted.wav\", \"Data/Audio/Scott Audio Extracted.wav\", \\\n",
    "               \"Data/Audio/Chukwu Audio Extracted.wav\", \"Data/Audio/Crystal Audio Extracted.wav\"]"
   ]
  },
  {
   "cell_type": "markdown",
   "id": "5a458949",
   "metadata": {},
   "source": [
    "## Testing opentimelineio\n"
   ]
  },
  {
   "cell_type": "code",
   "execution_count": 6,
   "id": "f1aed986",
   "metadata": {},
   "outputs": [],
   "source": [
    "import opentimelineio as otio\n",
    "import opentimelineio.test_utils as otio_test_utils"
   ]
  },
  {
   "cell_type": "markdown",
   "id": "8feb86f7",
   "metadata": {},
   "source": [
    "### First look at this overall function, then we will break down each function into its own component explanations \n",
    "```py\n",
    "def main():\n",
    "    args = parse_args()\n",
    "\n",
    "    # build the structure\n",
    "    tl = otio.schema.Timeline(name=\"Example timeline\")\n",
    "\n",
    "    tr = otio.schema.Track(name=\"example track\")\n",
    "    tl.tracks.append(tr)\n",
    "\n",
    "    # build the clips\n",
    "    for i, (fname, available_range_from_list) in enumerate(FILE_LIST):\n",
    "        ref = otio.schema.ExternalReference(\n",
    "            target_url=fname,\n",
    "            # available range is the content available for editing\n",
    "            available_range=available_range_from_list\n",
    "        )\n",
    "\n",
    "        # attach the reference to the clip\n",
    "        cl = otio.schema.Clip(\n",
    "            name=\"Clip{}\".format(i + 1),\n",
    "            media_reference=ref,\n",
    "\n",
    "            # the source range represents the range of the media that is being\n",
    "            # 'cut into' the clip. This is an artificial example, so its just\n",
    "            # a bit shorter than the available range.\n",
    "            source_range=otio.opentime.TimeRange(\n",
    "                start_time=otio.opentime.RationalTime(\n",
    "                    available_range_from_list.start_time.value + 10,\n",
    "                    available_range_from_list.start_time.rate\n",
    "                ),\n",
    "                duration=otio.opentime.RationalTime(\n",
    "                    available_range_from_list.duration.value - 20,\n",
    "                    available_range_from_list.duration.rate\n",
    "                ),\n",
    "            )\n",
    "        )\n",
    "\n",
    "        # put the clip into the track\n",
    "        tr.append(cl)\n",
    "\n",
    "    # write the file to disk\n",
    "    otio.adapters.write_to_file(tl, args.filepath)\n",
    "\n",
    "```"
   ]
  },
  {
   "cell_type": "code",
   "execution_count": null,
   "id": "17aea5a4",
   "metadata": {},
   "outputs": [],
   "source": [
    "\n",
    "def _find_matching_media(name, folder):\n",
    "    \"\"\"Look for media with this name in this folder.\"\"\"\n",
    "\n",
    "    # This function is an example which searches the file system for matching media.\n",
    "    # A real world studio implementation would likely look in an asset management system\n",
    "    # and use studio-specific metadata in the clip's metadata dictionary instead\n",
    "    # of matching the clip name.\n",
    "    # For example:\n",
    "    # shot = asset_database.find_shot(clip.metadata['mystudio']['shotID'])\n",
    "    # new_media = shot.latest_render(format='mov')\n",
    "\n",
    "    matches = glob.glob(\"{0}/{1}.*\".format(folder, name))\n",
    "    matches = list(map(os.path.abspath, matches))\n",
    "\n",
    "    if not matches:\n",
    "        # print \"DEBUG: No match for clip '{0}'\".format(name)\n",
    "        return None\n",
    "    if len(matches) == 1:\n",
    "        return matches[0]\n",
    "    else:\n",
    "        print(\n",
    "            \"WARNING: {0} matches found for clip '{1}', using '{2}'\".format(\n",
    "                len(matches),\n",
    "                name,\n",
    "                matches[0]\n",
    "            )\n",
    "        )\n",
    "        return matches[0]\n"
   ]
  },
  {
   "cell_type": "markdown",
   "id": "9aff1eb9",
   "metadata": {},
   "source": [
    "### Overall summary for the layman\n",
    "\n",
    "First create a timeline via "
   ]
  },
  {
   "cell_type": "markdown",
   "id": "59ff8173",
   "metadata": {},
   "source": [
    "## The tracks also must include "
   ]
  },
  {
   "cell_type": "markdown",
   "id": "39b0b1f3",
   "metadata": {},
   "source": [
    "#### Overview of the functions/variables\n",
    "| Function/Variable      | Description | Components   |\n",
    "| :----------       |    :----:   |          ----------: |\n",
    "| FILE_LIST_INTERVALS      | A list of file locations and their intervals of time of the clip     | (fname, available_range_from_list)   |\n",
    "| tl=otio.schema.Timeline(name=\"Example timeline\")   | Text        | And more      |\n",
    "| tr=otio.schema.Track(name=\"track\")   | Defines a track         | And more      |\n",
    "| tl.tracks.append(tr)  | adds track to timeline        | And more      |\n",
    "| start_time=otio.opentime.RationalTime(starting sample index, sample rate)  |    This is the start time in the form of the sample index and spe     | And more      |\n",
    "| duration=otio.opentime.RationalTime(400, 24)  | DURATION IS NOT THE DURATION OF THE CLIP. It is actually the ending frame followed by the sample rate       | And more      |"
   ]
  },
  {
   "cell_type": "code",
   "execution_count": 9,
   "id": "1ab12b87",
   "metadata": {},
   "outputs": [],
   "source": [
    "CLIP_LIST_INTERVALS= [\n",
    "    # first file starts at 0 and goes 1000 frames\n",
    "    #available range from list is the second element in tuple\n",
    "    (\n",
    "        \"Data/Vidio/Batman Middle.mp4\",\n",
    "        otio.opentime.TimeRange(\n",
    "            start_time=otio.opentime.RationalTime(0, 24),\n",
    "            duration=otio.opentime.RationalTime(1000, 24)\n",
    "        )\n",
    "    ),\n",
    "    # second file starts 1001 in and goes 480 frames (at 24)\n",
    "    (\n",
    "        \"Data/Vidio/Batman Left.mp4\",\n",
    "        otio.opentime.TimeRange(\n",
    "            start_time=otio.opentime.RationalTime(86400, 24),\n",
    "            duration=otio.opentime.RationalTime(480, 24)\n",
    "        )\n",
    "    ),\n",
    "    # third file starts at 0 and goes 400 frames @ 24)\n",
    "    (\n",
    "        \"Data/Vidio/Batman Right.mp4\",\n",
    "        otio.opentime.TimeRange(\n",
    "            start_time=otio.opentime.RationalTime(0, 24),\n",
    "            duration=otio.opentime.RationalTime(400, 24)\n",
    "        )\n",
    "    )\n",
    "]\n"
   ]
  },
  {
   "cell_type": "markdown",
   "id": "f9db0257",
   "metadata": {},
   "source": [
    "# clip parameters\n",
    "\n",
    "``` py\n",
    "otio.schema.Clip(\n",
    "name='', \n",
    "media_reference=otio.schema.MissingReference(name='', available_range=None, metadata={}), \n",
    "source_range=None, \n",
    "metadata={})\n",
    "```\n"
   ]
  },
  {
   "cell_type": "code",
   "execution_count": 13,
   "id": "ef79caae",
   "metadata": {
    "scrolled": true
   },
   "outputs": [
    {
     "ename": "IndexError",
     "evalue": "tuple index out of range",
     "output_type": "error",
     "traceback": [
      "\u001b[0;31m---------------------------------------------------------------------------\u001b[0m",
      "\u001b[0;31mIndexError\u001b[0m                                Traceback (most recent call last)",
      "\u001b[0;32m/tmp/ipykernel_37999/18503986.py\u001b[0m in \u001b[0;36m<module>\u001b[0;34m\u001b[0m\n\u001b[0;32m----> 1\u001b[0;31m \u001b[0mFILE_LIST\u001b[0m\u001b[0;34m[\u001b[0m\u001b[0;36m0\u001b[0m\u001b[0;34m]\u001b[0m\u001b[0;34m[\u001b[0m\u001b[0;36m2\u001b[0m\u001b[0;34m]\u001b[0m\u001b[0;34m\u001b[0m\u001b[0;34m\u001b[0m\u001b[0m\n\u001b[0m",
      "\u001b[0;31mIndexError\u001b[0m: tuple index out of range"
     ]
    }
   ],
   "source": [
    "FILE_LIST[0]"
   ]
  },
  {
   "cell_type": "code",
   "execution_count": null,
   "id": "52379a32",
   "metadata": {},
   "outputs": [],
   "source": [
    "def _conform_timeline(timeline, folder):\n",
    "    \"\"\" Look for replacement media for each clip in the given timeline.\n",
    "    The clips are relinked in place if media with a matching name is found.\n",
    "    \"\"\"\n",
    "\n",
    "    count = 0\n",
    "\n",
    "    for clip in timeline.each_clip():\n",
    "        # look for a media file that matches the clip's name\n",
    "        new_path = _find_matching_media(clip.name, folder)\n",
    "\n",
    "        # if no media is found, keep going\n",
    "        if not new_path:\n",
    "            continue\n",
    "\n",
    "        # relink to the found path\n",
    "        clip.media_reference = otio.schema.ExternalReference(\n",
    "            target_url=\"file://\" + new_path,\n",
    "            available_range=None  # the available range is unknown without\n",
    "                                  # opening the file\n",
    "        )\n",
    "        count += 1\n",
    "\n",
    "    return count\n"
   ]
  },
  {
   "cell_type": "markdown",
   "id": "860a1d77",
   "metadata": {},
   "source": [
    "## Look at this function first, then link back its functions and variables and untangle how to get a xml timeline"
   ]
  },
  {
   "cell_type": "code",
   "execution_count": null,
   "id": "d888907a",
   "metadata": {},
   "outputs": [],
   "source": [
    "def main():\n",
    "    args = parse_args()\n",
    "    #\n",
    "    \n",
    "    timeline = otio.adapters.read_from_file(args.input)\n",
    "    count = _conform_timeline(timeline, args.folder)\n",
    "    print(\"Relinked {0} clips to new media.\".format(count))\n",
    "    otio.adapters.write_to_file(timeline, args.output)\n",
    "    print(\n",
    "        \"Saved {} with {} clips.\".format(\n",
    "            args.output,\n",
    "            len(list(timeline.each_clip()))\n",
    "        )\n",
    "    )"
   ]
  },
  {
   "cell_type": "markdown",
   "id": "e5bb2dd9",
   "metadata": {},
   "source": [
    "### So to build, get the \n",
    "\n",
    "#### Loop the intervals, use the file number to link the camera view and the audio"
   ]
  },
  {
   "cell_type": "code",
   "execution_count": 6,
   "id": "852b3d10",
   "metadata": {},
   "outputs": [],
   "source": [
    "FILE_LIST= [\n",
    "    # first file starts at 0 and goes 1000 frames\n",
    "    (\n",
    "        \"Batman Middle.mp4\",\n",
    "        otio.opentime.TimeRange(\n",
    "            start_time=otio.opentime.RationalTime(0, 24),\n",
    "            duration=otio.opentime.RationalTime(1000, 24)\n",
    "        )\n",
    "    ),\n",
    "    # second file starts 1001 in and goes 480 frames (at 24)\n",
    "    (\n",
    "        \"Batman Left.mp4\",\n",
    "        otio.opentime.TimeRange(\n",
    "            start_time=otio.opentime.RationalTime(8640, 24),\n",
    "            duration=otio.opentime.RationalTime(480, 24)\n",
    "        )\n",
    "    ),\n",
    "    # third file starts at 0 and goes 400 frames @ 24)\n",
    "    (\n",
    "        \"Batman Right.mp4\",\n",
    "        otio.opentime.TimeRange(\n",
    "            start_time=otio.opentime.RationalTime(0, 24),\n",
    "            duration=otio.opentime.RationalTime(400, 24)\n",
    "        )\n",
    "    ),\n",
    "    (\n",
    "        \"Batman Middle.mp4\",\n",
    "        otio.opentime.TimeRange(\n",
    "            start_time=otio.opentime.RationalTime(4000, 24),\n",
    "            duration=otio.opentime.RationalTime(2400, 24)\n",
    "        )\n",
    "    )\n",
    "]\n"
   ]
  },
  {
   "cell_type": "code",
   "execution_count": 4,
   "id": "f494a0e7",
   "metadata": {},
   "outputs": [],
   "source": [
    "FILE_LIST= [\n",
    "    # first file starts at 0 and goes 1000 frames\n",
    "    (\n",
    "        \"Batman Middle.mp4\",\n",
    "        otio.opentime.TimeRange(\n",
    "            start_time=otio.opentime.RationalTime(0, 24),\n",
    "            duration=otio.opentime.RationalTime(1000, 24)\n",
    "        )\n",
    "    )\n",
    "]\n"
   ]
  },
  {
   "cell_type": "code",
   "execution_count": null,
   "id": "e1051acd",
   "metadata": {},
   "outputs": [],
   "source": []
  },
  {
   "cell_type": "code",
   "execution_count": 7,
   "id": "70585d49",
   "metadata": {},
   "outputs": [
    {
     "data": {
      "text/plain": [
       "True"
      ]
     },
     "execution_count": 7,
     "metadata": {},
     "output_type": "execute_result"
    }
   ],
   "source": [
    "\n",
    "# build the structure\n",
    "tl = otio.schema.Timeline(name=\"Example timeline\")\n",
    "\n",
    "tr = otio.schema.Track(name=\"example track\")\n",
    "tl.tracks.append(tr)\n",
    "\n",
    "# build the clips\n",
    "for i, (fname, available_range_from_list) in enumerate(FILE_LIST):\n",
    "    ref = otio.schema.ExternalReference(\n",
    "        target_url=fname,\n",
    "        # available range is the content available for editing\n",
    "        available_range=available_range_from_list\n",
    "    )\n",
    "\n",
    "    # attach the reference to the clip\n",
    "    cl = otio.schema.Clip(\n",
    "        name=\"Clip{}\".format(i + 1),\n",
    "        media_reference=ref,\n",
    "\n",
    "        # the source range represents the range of the media that is being\n",
    "        # 'cut into' the clip. This is an artificial example, so its just\n",
    "        # a bit shorter than the available range.\n",
    "        source_range=otio.opentime.TimeRange(\n",
    "            start_time=otio.opentime.RationalTime(\n",
    "                available_range_from_list.start_time.value + 10,\n",
    "                available_range_from_list.start_time.rate\n",
    "            ),\n",
    "            duration=otio.opentime.RationalTime(\n",
    "                available_range_from_list.duration.value - 20,\n",
    "                available_range_from_list.duration.rate\n",
    "            ),\n",
    "        )\n",
    "    )\n",
    "\n",
    "    # put the clip into the track\n",
    "    tr.append(cl)\n",
    "\n",
    "# write the file to disk\n",
    "otio.adapters.write_to_file(tl, 'test.otio')"
   ]
  },
  {
   "cell_type": "markdown",
   "id": "1b8dc658",
   "metadata": {},
   "source": [
    "# Testing format of xml and OTIO \n",
    "### first convert kdenlive project file to xml and otio then see if it can be imported back in"
   ]
  },
  {
   "cell_type": "code",
   "execution_count": 13,
   "id": "5c614b6c",
   "metadata": {},
   "outputs": [],
   "source": [
    "kdsm=otio.adapters.read_from_file('testing.kdenlive')"
   ]
  },
  {
   "cell_type": "markdown",
   "id": "19c93e3d",
   "metadata": {},
   "source": [
    "### Conversion from kdenlive to otio works when importing back to kdenlive"
   ]
  },
  {
   "cell_type": "code",
   "execution_count": 14,
   "id": "cc9109ed",
   "metadata": {},
   "outputs": [
    {
     "data": {
      "text/plain": [
       "True"
      ]
     },
     "execution_count": 14,
     "metadata": {},
     "output_type": "execute_result"
    }
   ],
   "source": [
    "otio.adapters.write_to_file(kdsm, \"kd_conv.otio\")"
   ]
  },
  {
   "cell_type": "markdown",
   "id": "504c4437",
   "metadata": {},
   "source": [
    "### conversion from kdenlive to xml (using otio package) then importing back to kdenlive does not work\n"
   ]
  },
  {
   "cell_type": "code",
   "execution_count": 15,
   "id": "86ad6376",
   "metadata": {},
   "outputs": [
    {
     "data": {
      "text/plain": [
       "'kd_conv.xml'"
      ]
     },
     "execution_count": 15,
     "metadata": {},
     "output_type": "execute_result"
    }
   ],
   "source": [
    "otio.adapters.write_to_file(kdsm, \"kd_conv.xml\")"
   ]
  },
  {
   "cell_type": "markdown",
   "id": "ab88875d",
   "metadata": {},
   "source": [
    "\n",
    "## The next step is to see if the kdenlive ->otio can be converted into an acceptable readable xml form\n",
    "# kdenlive ->otio -> xml does not work, the issue is reading the xml from "
   ]
  },
  {
   "cell_type": "code",
   "execution_count": 21,
   "id": "d6e4e07c",
   "metadata": {},
   "outputs": [
    {
     "data": {
      "text/plain": [
       "'kd_otio_xml_conv.xml'"
      ]
     },
     "execution_count": 21,
     "metadata": {},
     "output_type": "execute_result"
    }
   ],
   "source": [
    "kd_otio_xml_test=otio.adapters.read_from_file('kdtestimport.kdenlive')\n",
    "otio.adapters.write_to_file(kd_otio_xml_test, \"kd_otio_xml_conv.xml\")"
   ]
  },
  {
   "cell_type": "code",
   "execution_count": 26,
   "id": "36bf66e8",
   "metadata": {},
   "outputs": [
    {
     "ename": "AttributeError",
     "evalue": "module 'opentimelineio.adapters' has no attribute 'otio'",
     "output_type": "error",
     "traceback": [
      "\u001b[0;31m---------------------------------------------------------------------------\u001b[0m",
      "\u001b[0;31mAttributeError\u001b[0m                            Traceback (most recent call last)",
      "\u001b[0;32m/tmp/ipykernel_9578/3711617453.py\u001b[0m in \u001b[0;36m<module>\u001b[0;34m\u001b[0m\n\u001b[0;32m----> 1\u001b[0;31m \u001b[0mkd_otio_xml_test\u001b[0m\u001b[0;34m=\u001b[0m\u001b[0motio\u001b[0m\u001b[0;34m.\u001b[0m\u001b[0madapters\u001b[0m\u001b[0;34m.\u001b[0m\u001b[0motio\u001b[0m\u001b[0;34m(\u001b[0m\u001b[0;34m\"kd_conv.otio\"\u001b[0m\u001b[0;34m)\u001b[0m\u001b[0;34m\u001b[0m\u001b[0;34m\u001b[0m\u001b[0m\n\u001b[0m",
      "\u001b[0;31mAttributeError\u001b[0m: module 'opentimelineio.adapters' has no attribute 'otio'"
     ]
    }
   ],
   "source": [
    "kd_otio_xml_test=otio.adapters.otio(\"kd_conv.otio\")"
   ]
  },
  {
   "cell_type": "markdown",
   "id": "75831508",
   "metadata": {},
   "source": [
    "# See how a correct otio and xml form works and try to match the form\n"
   ]
  },
  {
   "cell_type": "markdown",
   "id": "358c0524",
   "metadata": {},
   "source": [
    "# Does xml work at all?\n",
    "\n",
    "# It DOES\n",
    "\n",
    "\n",
    "# now we translate the xml to otio then see"
   ]
  },
  {
   "cell_type": "code",
   "execution_count": 4,
   "id": "c496116a",
   "metadata": {},
   "outputs": [
    {
     "data": {
      "text/plain": [
       "True"
      ]
     },
     "execution_count": 4,
     "metadata": {},
     "output_type": "execute_result"
    }
   ],
   "source": [
    "xml_to_otio_test=otio.adapters.read_from_file('2nd_Example_Premiere.xml')\n",
    "otio.adapters.write_to_file(xml_to_otio_test, \"scott_example.otio\")"
   ]
  },
  {
   "cell_type": "code",
   "execution_count": 5,
   "id": "804bdc98",
   "metadata": {},
   "outputs": [
    {
     "data": {
      "text/plain": [
       "otio.schema.Timeline(name='Synced Sequence', tracks=otio.schema.Stack(name='Synced Sequence', children=[otio.schema.Track(name='', children=[otio.schema.Gap(name='', source_range=otio.opentime.TimeRange(start_time=otio.opentime.RationalTime(value=0, rate=29.97), duration=otio.opentime.RationalTime(value=743, rate=29.97)), effects=[], markers=[], metadata={}), otio.schema.Clip(name='White Side.MP4', media_reference=otio.schema.ExternalReference(target_url='file://localhost/Volumes/Extreme%20SSD/_S%20Projects/Dreamlet/Products/Jeff/2nd%20XML/White%20Side.MP4'), source_range=otio.opentime.TimeRange(start_time=otio.opentime.RationalTime(value=0, rate=29.97), duration=otio.opentime.RationalTime(value=4500, rate=29.97)), metadata={'fcp_xml': {'@id': 'clip2', '@premiereChannelType': 'stereo', 'link': [{'clipindex': '1', 'groupindex': '1', 'linkclipref': 'clip2', 'mediatype': 'video', 'trackindex': '1'}, {'clipindex': '1', 'groupindex': '1', 'linkclipref': 'A10E14C4-D6DA-4DA8-87A9-F7B80F96F122', 'mediatype': 'audio', 'trackindex': '1'}, {'clipindex': '1', 'groupindex': '1', 'linkclipref': '707107AA-CF73-4D96-8535-0E09BFA44866', 'mediatype': 'audio', 'trackindex': '2'}], 'masterclipid': 'C8B0DCB8-4033-4F4B-8744-5FBA3289B0F9', 'sourcetrack': {'mediatype': 'video', 'trackindex': '1'}}})], source_range=None, metadata={'fcp_xml': {'enabled': 'TRUE', 'locked': 'FALSE'}}), otio.schema.Track(name='', children=[otio.schema.Gap(name='', source_range=otio.opentime.TimeRange(start_time=otio.opentime.RationalTime(value=0, rate=29.97), duration=otio.opentime.RationalTime(value=539, rate=29.97)), effects=[], markers=[], metadata={}), otio.schema.Clip(name='Middle.MP4', media_reference=otio.schema.ExternalReference(target_url='file://localhost/Volumes/Extreme%20SSD/_S%20Projects/Dreamlet/Products/Jeff/2nd%20XML/Middle.MP4'), source_range=otio.opentime.TimeRange(start_time=otio.opentime.RationalTime(value=0, rate=29.97), duration=otio.opentime.RationalTime(value=4605, rate=29.97)), metadata={'fcp_xml': {'@id': 'clip3', '@premiereChannelType': 'stereo', 'link': [{'clipindex': '1', 'groupindex': '1', 'linkclipref': 'clip3', 'mediatype': 'video', 'trackindex': '2'}, {'clipindex': '1', 'groupindex': '1', 'linkclipref': '772DB500-54B6-4F31-9190-92534F4CC86F', 'mediatype': 'audio', 'trackindex': '3'}, {'clipindex': '1', 'groupindex': '1', 'linkclipref': 'F90C2749-4204-4A0E-A5B9-C8AD6B1A82B8', 'mediatype': 'audio', 'trackindex': '4'}], 'masterclipid': '698F2DEF-C477-4D01-8ACD-913B2FE35247', 'sourcetrack': {'mediatype': 'video', 'trackindex': '1'}}})], source_range=None, metadata={'fcp_xml': {'enabled': 'TRUE', 'locked': 'FALSE'}}), otio.schema.Track(name='', children=[otio.schema.Gap(name='', source_range=otio.opentime.TimeRange(start_time=otio.opentime.RationalTime(value=0, rate=29.97), duration=otio.opentime.RationalTime(value=295, rate=29.97)), effects=[], markers=[], metadata={}), otio.schema.Clip(name='Black Side.MP4', media_reference=otio.schema.ExternalReference(target_url='file://localhost/Volumes/Extreme%20SSD/_S%20Projects/Dreamlet/Products/Jeff/2nd%20XML/Black%20Side.MP4'), source_range=otio.opentime.TimeRange(start_time=otio.opentime.RationalTime(value=0, rate=29.97), duration=otio.opentime.RationalTime(value=4725, rate=29.97)), metadata={'fcp_xml': {'@id': 'clip4', '@premiereChannelType': 'stereo', 'link': [{'clipindex': '1', 'groupindex': '1', 'linkclipref': 'clip4', 'mediatype': 'video', 'trackindex': '3'}, {'clipindex': '1', 'groupindex': '1', 'linkclipref': 'D04D37BE-809B-4441-892F-5C8D85949E31', 'mediatype': 'audio', 'trackindex': '5'}, {'clipindex': '1', 'groupindex': '1', 'linkclipref': 'CABF3373-8229-4ABB-8BCD-06ABD830FFB2', 'mediatype': 'audio', 'trackindex': '6'}], 'masterclipid': '69D685F7-2AEC-4551-ADE9-E332E6859E1B', 'sourcetrack': {'mediatype': 'video', 'trackindex': '1'}}})], source_range=None, metadata={'fcp_xml': {'enabled': 'TRUE', 'locked': 'FALSE'}}), otio.schema.Track(name='', children=[otio.schema.Gap(name='', source_range=otio.opentime.TimeRange(start_time=otio.opentime.RationalTime(value=0, rate=29.97), duration=otio.opentime.RationalTime(value=743, rate=29.97)), effects=[], markers=[], metadata={}), otio.schema.Clip(name='White Side.MP4', media_reference=otio.schema.ExternalReference(target_url='file://localhost/Volumes/Extreme%20SSD/_S%20Projects/Dreamlet/Products/Jeff/2nd%20XML/White%20Side.MP4'), source_range=otio.opentime.TimeRange(start_time=otio.opentime.RationalTime(value=0, rate=29.97), duration=otio.opentime.RationalTime(value=4500, rate=29.97)), metadata={'fcp_xml': {'@id': 'A10E14C4-D6DA-4DA8-87A9-F7B80F96F122', '@premiereChannelType': 'stereo', 'link': [{'clipindex': '1', 'groupindex': '1', 'linkclipref': 'clip2', 'mediatype': 'video', 'trackindex': '1'}, {'clipindex': '1', 'groupindex': '1', 'linkclipref': 'A10E14C4-D6DA-4DA8-87A9-F7B80F96F122', 'mediatype': 'audio', 'trackindex': '1'}, {'clipindex': '1', 'groupindex': '1', 'linkclipref': '707107AA-CF73-4D96-8535-0E09BFA44866', 'mediatype': 'audio', 'trackindex': '2'}], 'masterclipid': 'C8B0DCB8-4033-4F4B-8744-5FBA3289B0F9', 'sourcetrack': {'mediatype': 'audio', 'trackindex': '1'}}})], source_range=None, metadata={'fcp_xml': {'@TL.SQTrackExpanded': '0', '@currentExplodedTrackIndex': '0', '@premiereTrackType': 'Stereo', '@totalExplodedTrackCount': '2', 'enabled': 'TRUE', 'locked': 'FALSE'}}), otio.schema.Track(name='', children=[otio.schema.Gap(name='', source_range=otio.opentime.TimeRange(start_time=otio.opentime.RationalTime(value=0, rate=29.97), duration=otio.opentime.RationalTime(value=539, rate=29.97)), effects=[], markers=[], metadata={}), otio.schema.Clip(name='Middle.MP4', media_reference=otio.schema.ExternalReference(target_url='file://localhost/Volumes/Extreme%20SSD/_S%20Projects/Dreamlet/Products/Jeff/2nd%20XML/Middle.MP4'), source_range=otio.opentime.TimeRange(start_time=otio.opentime.RationalTime(value=0, rate=29.97), duration=otio.opentime.RationalTime(value=4605, rate=29.97)), metadata={'fcp_xml': {'@id': '772DB500-54B6-4F31-9190-92534F4CC86F', '@premiereChannelType': 'stereo', 'link': [{'clipindex': '1', 'groupindex': '1', 'linkclipref': 'clip3', 'mediatype': 'video', 'trackindex': '2'}, {'clipindex': '1', 'groupindex': '1', 'linkclipref': '772DB500-54B6-4F31-9190-92534F4CC86F', 'mediatype': 'audio', 'trackindex': '3'}, {'clipindex': '1', 'groupindex': '1', 'linkclipref': 'F90C2749-4204-4A0E-A5B9-C8AD6B1A82B8', 'mediatype': 'audio', 'trackindex': '4'}], 'masterclipid': '698F2DEF-C477-4D01-8ACD-913B2FE35247', 'sourcetrack': {'mediatype': 'audio', 'trackindex': '1'}}})], source_range=None, metadata={'fcp_xml': {'@TL.SQTrackExpanded': '0', '@currentExplodedTrackIndex': '0', '@premiereTrackType': 'Stereo', '@totalExplodedTrackCount': '2', 'enabled': 'TRUE', 'locked': 'FALSE'}}), otio.schema.Track(name='', children=[otio.schema.Gap(name='', source_range=otio.opentime.TimeRange(start_time=otio.opentime.RationalTime(value=0, rate=29.97), duration=otio.opentime.RationalTime(value=295, rate=29.97)), effects=[], markers=[], metadata={}), otio.schema.Clip(name='Black Side.MP4', media_reference=otio.schema.ExternalReference(target_url='file://localhost/Volumes/Extreme%20SSD/_S%20Projects/Dreamlet/Products/Jeff/2nd%20XML/Black%20Side.MP4'), source_range=otio.opentime.TimeRange(start_time=otio.opentime.RationalTime(value=0, rate=29.97), duration=otio.opentime.RationalTime(value=4725, rate=29.97)), metadata={'fcp_xml': {'@id': 'D04D37BE-809B-4441-892F-5C8D85949E31', '@premiereChannelType': 'stereo', 'link': [{'clipindex': '1', 'groupindex': '1', 'linkclipref': 'clip4', 'mediatype': 'video', 'trackindex': '3'}, {'clipindex': '1', 'groupindex': '1', 'linkclipref': 'D04D37BE-809B-4441-892F-5C8D85949E31', 'mediatype': 'audio', 'trackindex': '5'}, {'clipindex': '1', 'groupindex': '1', 'linkclipref': 'CABF3373-8229-4ABB-8BCD-06ABD830FFB2', 'mediatype': 'audio', 'trackindex': '6'}], 'masterclipid': '69D685F7-2AEC-4551-ADE9-E332E6859E1B', 'sourcetrack': {'mediatype': 'audio', 'trackindex': '1'}}})], source_range=None, metadata={'fcp_xml': {'@TL.SQTrackExpanded': '0', '@currentExplodedTrackIndex': '0', '@premiereTrackType': 'Stereo', '@totalExplodedTrackCount': '2', 'enabled': 'TRUE', 'locked': 'FALSE'}}), otio.schema.Track(name='', children=[otio.schema.Clip(name='White Track.wav', media_reference=otio.schema.ExternalReference(target_url='file://localhost/Volumes/Extreme%20SSD/_S%20Projects/Dreamlet/Products/Jeff/2nd%20XML/White%20Track.wav'), source_range=otio.opentime.TimeRange(start_time=otio.opentime.RationalTime(value=60, rate=29.97), duration=otio.opentime.RationalTime(value=5350, rate=29.97)), metadata={'fcp_xml': {'@id': 'clip1', '@premiereChannelType': 'mono', 'masterclipid': 'D8922393-3A6A-4872-A993-80916666411A', 'sourcetrack': {'mediatype': 'audio', 'trackindex': '1'}}})], source_range=None, metadata={'fcp_xml': {'enabled': 'TRUE', 'locked': 'FALSE'}}), otio.schema.Track(name='', children=[otio.schema.Clip(name='BLack Track.wav', media_reference=otio.schema.ExternalReference(target_url='file://localhost/Volumes/Extreme%20SSD/_S%20Projects/Dreamlet/Products/Jeff/2nd%20XML/BLack%20Track.wav'), source_range=otio.opentime.TimeRange(start_time=otio.opentime.RationalTime(value=60, rate=29.97), duration=otio.opentime.RationalTime(value=5350, rate=29.97)), metadata={'fcp_xml': {'@id': 'clip5', '@premiereChannelType': 'mono', 'masterclipid': 'AAEBB9FE-CFD1-4112-972F-4BF96E407102', 'sourcetrack': {'mediatype': 'audio', 'trackindex': '1'}}})], source_range=None, metadata={'fcp_xml': {'enabled': 'TRUE', 'locked': 'FALSE'}})], source_range=None, metadata={}))"
      ]
     },
     "execution_count": 5,
     "metadata": {},
     "output_type": "execute_result"
    }
   ],
   "source": [
    "xml_to_otio_test"
   ]
  },
  {
   "cell_type": "code",
   "execution_count": null,
   "id": "2af730a0",
   "metadata": {},
   "outputs": [],
   "source": [
    "Timeline(name='Synced Sequence', \n",
    "         tracks=otio.schema.Stack( \n",
    "                                    name='Synced Sequence', \n",
    "                                    children=[otio.schema.Track(name='',\n",
    "                    children=[otio.schema.Gap(name='', source_range=otio.opentime.TimeRange(start_time=otio.opentime.RationalTime(value=0, rate=29.97), duration=otio.opentime.RationalTime(value=743, rate=29.97)), effects=[], markers=[], metadata={})"
   ]
  },
  {
   "cell_type": "code",
   "execution_count": null,
   "id": "45714674",
   "metadata": {},
   "outputs": [],
   "source": [
    "Timeline(\n",
    "        name='Synced Sequence', \n",
    "        tracks=otio.schema.Stack(\n",
    "            name='Synced Sequence', \n",
    "            children=[otio.schema.Track()"
   ]
  }
 ],
 "metadata": {
  "kernelspec": {
   "display_name": "Python 3 (ipykernel)",
   "language": "python",
   "name": "python3"
  },
  "language_info": {
   "codemirror_mode": {
    "name": "ipython",
    "version": 3
   },
   "file_extension": ".py",
   "mimetype": "text/x-python",
   "name": "python",
   "nbconvert_exporter": "python",
   "pygments_lexer": "ipython3",
   "version": "3.8.11"
  }
 },
 "nbformat": 4,
 "nbformat_minor": 5
}
